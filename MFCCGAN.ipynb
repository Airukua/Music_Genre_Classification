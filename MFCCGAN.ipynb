{
 "cells": [
  {
   "cell_type": "code",
   "execution_count": 1,
   "id": "df90ee94",
   "metadata": {},
   "outputs": [],
   "source": [
    "import numpy as np\n",
    "from torch.utils.data import  DataLoader\n",
    "from models.CGANGenerator import Generator\n",
    "from models.CGANDiscriminator import Discriminator\n",
    "from utils.audio_utils import AudioDataset\n",
    "from utils.train_CGAN import train_cgan\n",
    "import torch\n",
    "from utils.audio_generator import generate_all_classes"
   ]
  },
  {
   "cell_type": "code",
   "execution_count": 2,
   "id": "61819b7e",
   "metadata": {},
   "outputs": [],
   "source": [
    "# Load and preprocess feature and label arrays\n",
    "# prepare real loader and GAN loader\n",
    "raw_features = np.load(\"features.npy\", allow_pickle=True)\n",
    "features = np.stack([f.astype(np.float32) for f in raw_features])\n",
    "labels = np.load(\"labels.npy\")\n",
    "audio_dataset = AudioDataset(features, labels)\n",
    "Dataset = DataLoader(audio_dataset, batch_size=64, shuffle=True)"
   ]
  },
  {
   "cell_type": "code",
   "execution_count": 3,
   "id": "2d5b22cb",
   "metadata": {},
   "outputs": [
    {
     "name": "stderr",
     "output_type": "stream",
     "text": [
      "Epoch [1/100]: 100%|██████████| 157/157 [00:08<00:00, 19.20it/s, D_loss=0.435, G_loss=1.18] \n",
      "Epoch [2/100]: 100%|██████████| 157/157 [00:05<00:00, 28.34it/s, D_loss=0.146, G_loss=2.89] \n",
      "Epoch [3/100]: 100%|██████████| 157/157 [00:06<00:00, 25.93it/s, D_loss=0.0432, G_loss=4.97]\n",
      "Epoch [4/100]: 100%|██████████| 157/157 [00:07<00:00, 21.33it/s, D_loss=0.00637, G_loss=6.83]\n",
      "Epoch [5/100]: 100%|██████████| 157/157 [00:06<00:00, 26.09it/s, D_loss=0.00226, G_loss=6.81]\n",
      "Epoch [6/100]: 100%|██████████| 157/157 [00:06<00:00, 25.07it/s, D_loss=0.00111, G_loss=8.18]\n",
      "Epoch [7/100]: 100%|██████████| 157/157 [00:05<00:00, 27.22it/s, D_loss=0.00294, G_loss=6.5] \n",
      "Epoch [8/100]: 100%|██████████| 157/157 [00:05<00:00, 28.77it/s, D_loss=0.00135, G_loss=7.2]  \n",
      "Epoch [9/100]: 100%|██████████| 157/157 [00:07<00:00, 22.06it/s, D_loss=0.000659, G_loss=8.31]\n",
      "Epoch [10/100]: 100%|██████████| 157/157 [00:09<00:00, 16.08it/s, D_loss=0.000764, G_loss=8.02]\n",
      "Epoch [11/100]: 100%|██████████| 157/157 [00:05<00:00, 26.81it/s, D_loss=0.00036, G_loss=8.83] \n",
      "Epoch [12/100]: 100%|██████████| 157/157 [00:06<00:00, 26.06it/s, D_loss=0.000287, G_loss=9.05]\n",
      "Epoch [13/100]: 100%|██████████| 157/157 [00:06<00:00, 24.45it/s, D_loss=0.000266, G_loss=9.12]\n",
      "Epoch [14/100]: 100%|██████████| 157/157 [00:07<00:00, 22.33it/s, D_loss=0.00011, G_loss=10]   \n",
      "Epoch [15/100]: 100%|██████████| 157/157 [00:08<00:00, 18.84it/s, D_loss=0.000217, G_loss=8.58]\n",
      "Epoch [16/100]: 100%|██████████| 157/157 [00:07<00:00, 20.32it/s, D_loss=0.000129, G_loss=9.79]\n",
      "Epoch [17/100]: 100%|██████████| 157/157 [00:07<00:00, 20.08it/s, D_loss=2.74e-5, G_loss=12.1] \n",
      "Epoch [18/100]: 100%|██████████| 157/157 [00:07<00:00, 19.85it/s, D_loss=5.62e-5, G_loss=10.4]\n",
      "Epoch [19/100]: 100%|██████████| 157/157 [00:08<00:00, 17.65it/s, D_loss=4.41e-5, G_loss=11.2]\n",
      "Epoch [20/100]: 100%|██████████| 157/157 [00:06<00:00, 24.64it/s, D_loss=4.07e-5, G_loss=10.9]\n",
      "Epoch [21/100]: 100%|██████████| 157/157 [00:06<00:00, 25.69it/s, D_loss=3.27e-5, G_loss=11]  \n",
      "Epoch [22/100]: 100%|██████████| 157/157 [00:06<00:00, 24.11it/s, D_loss=5.54e-5, G_loss=10.3]\n",
      "Epoch [23/100]: 100%|██████████| 157/157 [00:06<00:00, 23.88it/s, D_loss=6.31e-5, G_loss=10.4]\n",
      "Epoch [24/100]: 100%|██████████| 157/157 [00:08<00:00, 18.56it/s, D_loss=3.39e-5, G_loss=11.2]\n",
      "Epoch [25/100]: 100%|██████████| 157/157 [00:06<00:00, 24.38it/s, D_loss=4.63e-5, G_loss=10.8]\n",
      "Epoch [26/100]: 100%|██████████| 157/157 [00:06<00:00, 25.45it/s, D_loss=2.36e-5, G_loss=10.8]\n",
      "Epoch [27/100]: 100%|██████████| 157/157 [00:06<00:00, 22.88it/s, D_loss=4.8e-5, G_loss=10.1] \n",
      "Epoch [28/100]: 100%|██████████| 157/157 [00:06<00:00, 24.08it/s, D_loss=7.53e-6, G_loss=12.7]\n",
      "Epoch [29/100]: 100%|██████████| 157/157 [00:08<00:00, 18.94it/s, D_loss=8.01e-6, G_loss=12.6]\n",
      "Epoch [30/100]: 100%|██████████| 157/157 [00:06<00:00, 24.01it/s, D_loss=3.22e-5, G_loss=11.1]\n",
      "Epoch [31/100]: 100%|██████████| 157/157 [00:08<00:00, 19.62it/s, D_loss=2.38e-5, G_loss=11.4]\n",
      "Epoch [32/100]: 100%|██████████| 157/157 [00:06<00:00, 22.43it/s, D_loss=2.39e-5, G_loss=11]  \n",
      "Epoch [33/100]: 100%|██████████| 157/157 [00:08<00:00, 18.24it/s, D_loss=1.15e-5, G_loss=12.6]\n",
      "Epoch [34/100]: 100%|██████████| 157/157 [00:06<00:00, 23.01it/s, D_loss=1.05e-5, G_loss=12.4]\n",
      "Epoch [35/100]: 100%|██████████| 157/157 [00:06<00:00, 24.32it/s, D_loss=1.8e-5, G_loss=11.9] \n",
      "Epoch [36/100]: 100%|██████████| 157/157 [00:07<00:00, 22.24it/s, D_loss=7.52e-6, G_loss=12.3]\n",
      "Epoch [37/100]: 100%|██████████| 157/157 [00:07<00:00, 22.29it/s, D_loss=8.54e-6, G_loss=12.7]\n",
      "Epoch [38/100]: 100%|██████████| 157/157 [00:08<00:00, 17.81it/s, D_loss=6.3e-6, G_loss=13.4] \n",
      "Epoch [39/100]: 100%|██████████| 157/157 [00:06<00:00, 22.67it/s, D_loss=3.87e-6, G_loss=13.7]\n",
      "Epoch [40/100]: 100%|██████████| 157/157 [00:06<00:00, 24.71it/s, D_loss=9.98e-6, G_loss=11.9]\n",
      "Epoch [41/100]: 100%|██████████| 157/157 [00:06<00:00, 22.84it/s, D_loss=5.84e-6, G_loss=13.4]\n",
      "Epoch [42/100]: 100%|██████████| 157/157 [00:06<00:00, 22.57it/s, D_loss=5.44e-6, G_loss=13.4]\n",
      "Epoch [43/100]: 100%|██████████| 157/157 [00:09<00:00, 17.43it/s, D_loss=5.64e-6, G_loss=12.9]\n",
      "Epoch [44/100]: 100%|██████████| 157/157 [00:06<00:00, 24.21it/s, D_loss=2.67e-6, G_loss=14.4]\n",
      "Epoch [45/100]: 100%|██████████| 157/157 [00:06<00:00, 24.20it/s, D_loss=7.05e-6, G_loss=12.3]\n",
      "Epoch [46/100]: 100%|██████████| 157/157 [00:06<00:00, 24.25it/s, D_loss=5.33e-6, G_loss=13.1]\n",
      "Epoch [47/100]: 100%|██████████| 157/157 [00:08<00:00, 17.47it/s, D_loss=3.07e-6, G_loss=14.3]\n",
      "Epoch [48/100]: 100%|██████████| 157/157 [00:06<00:00, 22.62it/s, D_loss=6.29e-6, G_loss=12.1]\n",
      "Epoch [49/100]: 100%|██████████| 157/157 [00:06<00:00, 23.99it/s, D_loss=2.55e-6, G_loss=13.6]\n",
      "Epoch [50/100]: 100%|██████████| 157/157 [00:06<00:00, 23.39it/s, D_loss=1.84e-6, G_loss=14.6]\n",
      "Epoch [51/100]: 100%|██████████| 157/157 [00:06<00:00, 23.47it/s, D_loss=3.32e-6, G_loss=12.8]\n",
      "Epoch [52/100]: 100%|██████████| 157/157 [00:09<00:00, 17.27it/s, D_loss=1.97e-6, G_loss=15]  \n",
      "Epoch [53/100]: 100%|██████████| 157/157 [00:06<00:00, 23.00it/s, D_loss=6.69e-7, G_loss=15.9]\n",
      "Epoch [54/100]: 100%|██████████| 157/157 [00:06<00:00, 23.66it/s, D_loss=1.58e-6, G_loss=14.6]\n",
      "Epoch [55/100]: 100%|██████████| 157/157 [00:06<00:00, 24.36it/s, D_loss=1.58e-6, G_loss=14.2]\n",
      "Epoch [56/100]: 100%|██████████| 157/157 [00:06<00:00, 22.52it/s, D_loss=1.49e-6, G_loss=14]  \n",
      "Epoch [57/100]: 100%|██████████| 157/157 [00:10<00:00, 15.61it/s, D_loss=5.6e-7, G_loss=16.9] \n",
      "Epoch [58/100]: 100%|██████████| 157/157 [00:06<00:00, 26.12it/s, D_loss=1.19e-6, G_loss=15.1]\n",
      "Epoch [59/100]: 100%|██████████| 157/157 [00:07<00:00, 20.50it/s, D_loss=2.41e-5, G_loss=12.4]\n",
      "Epoch [60/100]: 100%|██████████| 157/157 [00:04<00:00, 36.42it/s, D_loss=2.52e-6, G_loss=13.5]\n",
      "Epoch [61/100]: 100%|██████████| 157/157 [00:04<00:00, 34.22it/s, D_loss=4.25e-6, G_loss=12.6]\n",
      "Epoch [62/100]: 100%|██████████| 157/157 [00:04<00:00, 34.63it/s, D_loss=2.2e-6, G_loss=13.3] \n",
      "Epoch [63/100]: 100%|██████████| 157/157 [00:06<00:00, 23.92it/s, D_loss=1.78e-6, G_loss=13.4]\n",
      "Epoch [64/100]: 100%|██████████| 157/157 [00:04<00:00, 33.69it/s, D_loss=1.84e-6, G_loss=13.5]\n",
      "Epoch [65/100]: 100%|██████████| 157/157 [00:04<00:00, 35.48it/s, D_loss=1.02e-6, G_loss=14.6]\n",
      "Epoch [66/100]: 100%|██████████| 157/157 [00:04<00:00, 35.79it/s, D_loss=6.43e-7, G_loss=15.5]\n",
      "Epoch [67/100]: 100%|██████████| 157/157 [00:04<00:00, 33.65it/s, D_loss=6.91e-7, G_loss=14.9]\n",
      "Epoch [68/100]: 100%|██████████| 157/157 [00:04<00:00, 34.72it/s, D_loss=4.34e-7, G_loss=15.4]\n",
      "Epoch [69/100]: 100%|██████████| 157/157 [00:04<00:00, 32.93it/s, D_loss=6.52e-7, G_loss=14.4]\n",
      "Epoch [70/100]: 100%|██████████| 157/157 [00:06<00:00, 25.26it/s, D_loss=4.4e-7, G_loss=15.4] \n",
      "Epoch [71/100]: 100%|██████████| 157/157 [00:04<00:00, 31.62it/s, D_loss=5.43e-7, G_loss=15.2]\n",
      "Epoch [72/100]: 100%|██████████| 157/157 [00:04<00:00, 36.31it/s, D_loss=7.28e-7, G_loss=15.1]\n",
      "Epoch [73/100]: 100%|██████████| 157/157 [00:04<00:00, 33.16it/s, D_loss=3.24e-7, G_loss=15.3]\n",
      "Epoch [74/100]: 100%|██████████| 157/157 [00:04<00:00, 32.38it/s, D_loss=2.34e-7, G_loss=17.2]\n",
      "Epoch [75/100]: 100%|██████████| 157/157 [00:04<00:00, 32.51it/s, D_loss=2.44e-7, G_loss=16.4]\n",
      "Epoch [76/100]: 100%|██████████| 157/157 [00:08<00:00, 19.53it/s, D_loss=1.37e-7, G_loss=16.5]\n",
      "Epoch [77/100]: 100%|██████████| 157/157 [00:06<00:00, 23.14it/s, D_loss=2.16e-7, G_loss=16]  \n",
      "Epoch [78/100]: 100%|██████████| 157/157 [00:05<00:00, 27.07it/s, D_loss=1e-7, G_loss=17.5]   \n",
      "Epoch [79/100]: 100%|██████████| 157/157 [00:04<00:00, 33.85it/s, D_loss=1.87e-7, G_loss=16.1]\n",
      "Epoch [80/100]: 100%|██████████| 157/157 [00:04<00:00, 35.67it/s, D_loss=2.78e-7, G_loss=15.2]\n",
      "Epoch [81/100]: 100%|██████████| 157/157 [00:04<00:00, 33.23it/s, D_loss=2.93e-7, G_loss=15.3]\n",
      "Epoch [82/100]: 100%|██████████| 157/157 [00:06<00:00, 23.11it/s, D_loss=1.78e-7, G_loss=16.7]\n",
      "Epoch [83/100]: 100%|██████████| 157/157 [00:04<00:00, 33.00it/s, D_loss=1.57e-7, G_loss=15.8]\n",
      "Epoch [84/100]: 100%|██████████| 157/157 [00:04<00:00, 37.34it/s, D_loss=1.82e-7, G_loss=15.7]\n",
      "Epoch [85/100]: 100%|██████████| 157/157 [00:04<00:00, 37.64it/s, D_loss=2.23e-7, G_loss=15.5]\n",
      "Epoch [86/100]: 100%|██████████| 157/157 [00:04<00:00, 37.28it/s, D_loss=9.33e-8, G_loss=16.7]\n",
      "Epoch [87/100]: 100%|██████████| 157/157 [00:04<00:00, 35.72it/s, D_loss=8.83e-8, G_loss=16.8]\n",
      "Epoch [88/100]: 100%|██████████| 157/157 [00:04<00:00, 37.24it/s, D_loss=1.1e-7, G_loss=17.1] \n",
      "Epoch [89/100]: 100%|██████████| 157/157 [00:04<00:00, 36.61it/s, D_loss=1.29e-7, G_loss=17.5]\n",
      "Epoch [90/100]: 100%|██████████| 157/157 [00:06<00:00, 23.18it/s, D_loss=4.77e-8, G_loss=19.2]\n",
      "Epoch [91/100]: 100%|██████████| 157/157 [00:04<00:00, 35.23it/s, D_loss=1.12e-7, G_loss=16.1]\n",
      "Epoch [92/100]: 100%|██████████| 157/157 [00:04<00:00, 33.07it/s, D_loss=7.62e-8, G_loss=17.9]\n",
      "Epoch [93/100]: 100%|██████████| 157/157 [00:04<00:00, 37.30it/s, D_loss=9.61e-8, G_loss=16.4]\n",
      "Epoch [94/100]: 100%|██████████| 157/157 [00:05<00:00, 30.73it/s, D_loss=4.51e-8, G_loss=18.1]\n",
      "Epoch [95/100]: 100%|██████████| 157/157 [00:05<00:00, 26.19it/s, D_loss=7.44e-8, G_loss=17.2]\n",
      "Epoch [96/100]: 100%|██████████| 157/157 [00:06<00:00, 22.69it/s, D_loss=3.41e-8, G_loss=18.9]\n",
      "Epoch [97/100]: 100%|██████████| 157/157 [00:04<00:00, 33.76it/s, D_loss=5.35e-8, G_loss=17.6]\n",
      "Epoch [98/100]: 100%|██████████| 157/157 [00:04<00:00, 35.07it/s, D_loss=3.75e-8, G_loss=17.2]\n",
      "Epoch [99/100]: 100%|██████████| 157/157 [00:04<00:00, 36.29it/s, D_loss=4.53e-8, G_loss=17]  \n",
      "Epoch [100/100]: 100%|██████████| 157/157 [00:04<00:00, 34.36it/s, D_loss=2.64e-8, G_loss=18.3]\n"
     ]
    }
   ],
   "source": [
    "G = Generator(latent_dim=100, num_classes=10, output_dim=2013)\n",
    "D = Discriminator(input_dim=2013, num_classes=10)\n",
    "\n",
    "CGAN = train_cgan(generator=G, discriminator=D, dataloader=Dataset,\n",
    "           num_classes=10, latent_dim=100, epochs=100, device='cuda')"
   ]
  },
  {
   "cell_type": "code",
   "execution_count": null,
   "id": "d81bda70",
   "metadata": {},
   "outputs": [
    {
     "name": "stdout",
     "output_type": "stream",
     "text": [
      "Synthetic Data Shape: torch.Size([9990, 61, 33])\n",
      "Synthetic Labels Shape: torch.Size([9990])\n",
      "combined_features Shape: torch.Size([19980, 61, 33])\n"
     ]
    }
   ],
   "source": [
    "# Generate synthetic data and labels using the trained generator\n",
    "# Move real features and labels to the correct device\n",
    "# Concatenate real and synthetic data\n",
    "# Debug shapes\n",
    "synthetic_data, synthetic_labels = generate_all_classes(G, n_per_class=999)\n",
    "synthetic_data = synthetic_data.view(-1, 61, 33)\n",
    "device = torch.device('cuda')\n",
    "real_features = torch.as_tensor(features, device=device)\n",
    "real_labels = torch.as_tensor(labels, device=device)\n",
    "combined_features = torch.cat([real_features, synthetic_data], dim=0)\n",
    "combined_labels = torch.cat([real_labels, synthetic_labels], dim=0)\n",
    "print(f\"Synthetic Data Shape: {synthetic_data.shape}\")\n",
    "print(f\"Synthetic Labels Shape: {synthetic_labels.shape}\")\n",
    "print(f\"combined_features Shape: {combined_features.shape}\")"
   ]
  },
  {
   "cell_type": "code",
   "execution_count": 7,
   "id": "0f39c20c",
   "metadata": {},
   "outputs": [],
   "source": [
    "features_np = combined_features.cpu().numpy()\n",
    "labels_np = combined_labels.cpu().numpy()\n",
    "np.save('mfcc_CGAN_features.npy', features_np)\n",
    "np.save('mfcc_CGAN_labels.npy', labels_np)"
   ]
  }
 ],
 "metadata": {
  "kernelspec": {
   "display_name": "gpu-cuda",
   "language": "python",
   "name": "python3"
  },
  "language_info": {
   "codemirror_mode": {
    "name": "ipython",
    "version": 3
   },
   "file_extension": ".py",
   "mimetype": "text/x-python",
   "name": "python",
   "nbconvert_exporter": "python",
   "pygments_lexer": "ipython3",
   "version": "3.11.11"
  }
 },
 "nbformat": 4,
 "nbformat_minor": 5
}
