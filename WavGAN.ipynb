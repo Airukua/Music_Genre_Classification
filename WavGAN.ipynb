{
 "cells": [
  {
   "cell_type": "code",
   "execution_count": 1,
   "id": "4cb5b6ec",
   "metadata": {},
   "outputs": [
    {
     "name": "stderr",
     "output_type": "stream",
     "text": [
      "/home/awr1u24/anaconda3/envs/gpu-cuda/lib/python3.11/site-packages/tqdm/auto.py:21: TqdmWarning: IProgress not found. Please update jupyter and ipywidgets. See https://ipywidgets.readthedocs.io/en/stable/user_install.html\n",
      "  from .autonotebook import tqdm as notebook_tqdm\n"
     ]
    }
   ],
   "source": [
    "from glob import glob\n",
    "from pathlib import Path\n",
    "import kagglehub\n",
    "from utils.audio_loader import load_audio\n",
    "import warnings\n",
    "from models.CGANGenerator import Generator\n",
    "from models.CGANDiscriminator import Discriminator\n",
    "warnings.filterwarnings(\"ignore\")\n",
    "from utils.train_CGAN import train_cgan\n",
    "from utils.audio_utils import AudioDataset\n",
    "from torch.utils.data import  DataLoader\n",
    "from utils.audio_utils import MFCCFeatureExtractor\n",
    "from utils.audio_generator import generate_all_classes\n",
    "import torch\n",
    "import numpy as np"
   ]
  },
  {
   "cell_type": "code",
   "execution_count": 2,
   "id": "3ffb01fa",
   "metadata": {},
   "outputs": [
    {
     "name": "stdout",
     "output_type": "stream",
     "text": [
      "[SUCCESS] Loaded 1000 audio files.\n"
     ]
    }
   ],
   "source": [
    "# This block of code prepares the GTZAN dataset by identifying the base path,\n",
    "# then retrieving all audio file paths and the image directory.\n",
    "#\n",
    "# - path points to the KaggleHub download cache of the GTZAN dataset.\n",
    "# - BASE_DIR navigates one level deeper into the dataset version folder.\n",
    "# - audio_paths collects full paths to all WAV files inside genre folders.\n",
    "path = Path(\"/home/awr1u24/.cache/kagglehub/datasets/andradaolteanu/gtzan-dataset-music-genre-classification/versions/1\")\n",
    "if not path.exists():\n",
    "    print(\"[INFO] GTZAN dataset not found locally. Downloading from KaggleHub...\")\n",
    "    path = Path(kagglehub.dataset_download(\"andradaolteanu/gtzan-dataset-music-genre-classification\"))\n",
    "    print(\"[INFO] Dataset downloaded to:\", path)\n",
    "\n",
    "try:\n",
    "    BASE_DIR = next(path.iterdir())\n",
    "except StopIteration:\n",
    "    raise FileNotFoundError(f\"[ERROR] No contents found inside {path}.\")\n",
    "\n",
    "audio_paths = glob(str(BASE_DIR / \"genres_original\" / \"*\" / \"*.wav\"))\n",
    "if not audio_paths:\n",
    "    raise FileNotFoundError(f\"[ERROR] No audio files found in {BASE_DIR}/genres_original/.\")\n",
    "\n",
    "print(f\"[SUCCESS] Loaded {len(audio_paths)} audio files.\")"
   ]
  },
  {
   "cell_type": "code",
   "execution_count": 3,
   "id": "9a162b38",
   "metadata": {},
   "outputs": [
    {
     "name": "stderr",
     "output_type": "stream",
     "text": [
      "Finding minimum length:  84%|████████▍ | 838/1000 [00:16<00:02, 74.87it/s]"
     ]
    },
    {
     "name": "stdout",
     "output_type": "stream",
     "text": [
      "[WARNING] jazz.00054.wav is corrupted and will be skipped!\n"
     ]
    },
    {
     "name": "stderr",
     "output_type": "stream",
     "text": [
      "Finding minimum length: 100%|██████████| 1000/1000 [00:19<00:00, 52.14it/s]\n",
      "Loading and segmenting audio: 100%|██████████| 999/999 [00:14<00:00, 67.10it/s] \n"
     ]
    }
   ],
   "source": [
    "genre_dir = Path(BASE_DIR) / \"genres_original\"\n",
    "genres = [p.name for p in genre_dir.iterdir() if p.is_dir()]\n",
    "label_dict = {i : label for i, label in enumerate(genres)}\n",
    "audio_np, labels = load_audio(audio_paths, label_dict, sampling_rate=22050)"
   ]
  },
  {
   "cell_type": "code",
   "execution_count": 4,
   "id": "1d59c23a",
   "metadata": {},
   "outputs": [],
   "source": [
    "audio_dataset = AudioDataset(audio_np, labels)\n",
    "Dataset = DataLoader(audio_dataset, batch_size=32, shuffle=True)\n",
    "G = Generator(latent_dim=100, num_classes=10, output_dim=66000)\n",
    "D = Discriminator(input_dim=66000, num_classes=10)"
   ]
  },
  {
   "cell_type": "code",
   "execution_count": 5,
   "id": "476ef04e",
   "metadata": {},
   "outputs": [
    {
     "name": "stderr",
     "output_type": "stream",
     "text": [
      "Epoch [1/100]: 100%|██████████| 313/313 [01:07<00:00,  4.64it/s, D_loss=1.32, G_loss=0.732] \n",
      "Epoch [2/100]: 100%|██████████| 313/313 [01:05<00:00,  4.79it/s, D_loss=1.18, G_loss=3.21] \n",
      "Epoch [3/100]: 100%|██████████| 313/313 [01:04<00:00,  4.84it/s, D_loss=0.528, G_loss=2.64]\n",
      "Epoch [4/100]: 100%|██████████| 313/313 [01:05<00:00,  4.74it/s, D_loss=0.175, G_loss=4.21]\n",
      "Epoch [5/100]: 100%|██████████| 313/313 [01:05<00:00,  4.79it/s, D_loss=0.0424, G_loss=4.79]\n",
      "Epoch [6/100]: 100%|██████████| 313/313 [00:46<00:00,  6.78it/s, D_loss=0.135, G_loss=6.08] \n",
      "Epoch [7/100]: 100%|██████████| 313/313 [00:43<00:00,  7.26it/s, D_loss=0.0431, G_loss=5.57]\n",
      "Epoch [8/100]: 100%|██████████| 313/313 [00:47<00:00,  6.63it/s, D_loss=0.333, G_loss=5.38] \n",
      "Epoch [9/100]: 100%|██████████| 313/313 [00:43<00:00,  7.27it/s, D_loss=0.0746, G_loss=4.74] \n",
      "Epoch [10/100]: 100%|██████████| 313/313 [00:49<00:00,  6.34it/s, D_loss=0.0982, G_loss=12]  \n",
      "Epoch [11/100]: 100%|██████████| 313/313 [00:46<00:00,  6.74it/s, D_loss=0.0229, G_loss=5.51]\n",
      "Epoch [12/100]: 100%|██████████| 313/313 [00:49<00:00,  6.38it/s, D_loss=0.42, G_loss=6.74]   \n",
      "Epoch [13/100]: 100%|██████████| 313/313 [00:45<00:00,  6.88it/s, D_loss=0.0514, G_loss=6.77]\n",
      "Epoch [14/100]: 100%|██████████| 313/313 [00:45<00:00,  6.87it/s, D_loss=0.214, G_loss=8.82] \n",
      "Epoch [15/100]: 100%|██████████| 313/313 [00:48<00:00,  6.48it/s, D_loss=0.142, G_loss=6.35] \n",
      "Epoch [16/100]: 100%|██████████| 313/313 [00:45<00:00,  6.87it/s, D_loss=0.116, G_loss=10.5] \n",
      "Epoch [17/100]: 100%|██████████| 313/313 [00:44<00:00,  6.98it/s, D_loss=0.00384, G_loss=7.98]\n",
      "Epoch [18/100]: 100%|██████████| 313/313 [00:45<00:00,  6.87it/s, D_loss=0.0501, G_loss=8.6]  \n",
      "Epoch [19/100]: 100%|██████████| 313/313 [00:48<00:00,  6.41it/s, D_loss=0.263, G_loss=6.99]  \n",
      "Epoch [20/100]: 100%|██████████| 313/313 [00:45<00:00,  6.85it/s, D_loss=0.0943, G_loss=5.94] \n",
      "Epoch [21/100]: 100%|██████████| 313/313 [00:46<00:00,  6.80it/s, D_loss=0.0156, G_loss=8.09]  \n",
      "Epoch [22/100]: 100%|██████████| 313/313 [00:48<00:00,  6.42it/s, D_loss=0.0305, G_loss=13.9]  \n",
      "Epoch [23/100]: 100%|██████████| 313/313 [00:45<00:00,  6.84it/s, D_loss=0.119, G_loss=8.84]   \n",
      "Epoch [24/100]: 100%|██████████| 313/313 [00:45<00:00,  6.88it/s, D_loss=0.112, G_loss=6.36]  \n",
      "Epoch [25/100]: 100%|██████████| 313/313 [00:48<00:00,  6.45it/s, D_loss=0.0412, G_loss=8]    \n",
      "Epoch [26/100]: 100%|██████████| 313/313 [00:45<00:00,  6.87it/s, D_loss=0.00538, G_loss=8.58]\n",
      "Epoch [27/100]: 100%|██████████| 313/313 [00:45<00:00,  6.81it/s, D_loss=0.0637, G_loss=5.5]  \n",
      "Epoch [28/100]: 100%|██████████| 313/313 [00:49<00:00,  6.34it/s, D_loss=0.0353, G_loss=7.41] \n",
      "Epoch [29/100]: 100%|██████████| 313/313 [00:45<00:00,  6.86it/s, D_loss=0.0177, G_loss=8.17] \n",
      "Epoch [30/100]: 100%|██████████| 313/313 [00:45<00:00,  6.88it/s, D_loss=0.0397, G_loss=6.46]  \n",
      "Epoch [31/100]: 100%|██████████| 313/313 [00:48<00:00,  6.40it/s, D_loss=2.71e-5, G_loss=11.1]\n",
      "Epoch [32/100]: 100%|██████████| 313/313 [00:46<00:00,  6.72it/s, D_loss=0.0347, G_loss=7.6]  \n",
      "Epoch [33/100]: 100%|██████████| 313/313 [00:49<00:00,  6.37it/s, D_loss=0.0405, G_loss=8.11] \n",
      "Epoch [34/100]: 100%|██████████| 313/313 [00:46<00:00,  6.77it/s, D_loss=0.0932, G_loss=6.73] \n",
      "Epoch [35/100]: 100%|██████████| 313/313 [00:46<00:00,  6.75it/s, D_loss=0.00845, G_loss=9.34]\n",
      "Epoch [36/100]: 100%|██████████| 313/313 [00:48<00:00,  6.45it/s, D_loss=4.17e-5, G_loss=11.5] \n",
      "Epoch [37/100]: 100%|██████████| 313/313 [00:45<00:00,  6.85it/s, D_loss=0.0135, G_loss=12.1] \n",
      "Epoch [38/100]: 100%|██████████| 313/313 [00:46<00:00,  6.76it/s, D_loss=0.00598, G_loss=7.22] \n",
      "Epoch [39/100]: 100%|██████████| 313/313 [00:48<00:00,  6.42it/s, D_loss=7.45e-6, G_loss=16.4]\n",
      "Epoch [40/100]: 100%|██████████| 313/313 [00:46<00:00,  6.75it/s, D_loss=0.223, G_loss=7.35]   \n",
      "Epoch [41/100]: 100%|██████████| 313/313 [00:46<00:00,  6.75it/s, D_loss=0.0345, G_loss=8.62] \n",
      "Epoch [42/100]: 100%|██████████| 313/313 [00:48<00:00,  6.41it/s, D_loss=0.00605, G_loss=9.43] \n",
      "Epoch [43/100]: 100%|██████████| 313/313 [00:46<00:00,  6.66it/s, D_loss=0.00744, G_loss=10.3]\n",
      "Epoch [44/100]: 100%|██████████| 313/313 [00:45<00:00,  6.82it/s, D_loss=0.00834, G_loss=10.5] \n",
      "Epoch [45/100]: 100%|██████████| 313/313 [00:48<00:00,  6.45it/s, D_loss=0.035, G_loss=6.1]   \n",
      "Epoch [46/100]: 100%|██████████| 313/313 [00:46<00:00,  6.73it/s, D_loss=0.0163, G_loss=6.51]  \n",
      "Epoch [47/100]: 100%|██████████| 313/313 [00:46<00:00,  6.76it/s, D_loss=0.00622, G_loss=8.58] \n",
      "Epoch [48/100]: 100%|██████████| 313/313 [00:48<00:00,  6.39it/s, D_loss=0.00116, G_loss=10.5] \n",
      "Epoch [49/100]: 100%|██████████| 313/313 [00:46<00:00,  6.78it/s, D_loss=0.0047, G_loss=8.44] \n",
      "Epoch [50/100]: 100%|██████████| 313/313 [00:46<00:00,  6.68it/s, D_loss=0.00494, G_loss=9.44]\n",
      "Epoch [51/100]: 100%|██████████| 313/313 [00:48<00:00,  6.44it/s, D_loss=0.00463, G_loss=7.1] \n",
      "Epoch [52/100]: 100%|██████████| 313/313 [00:46<00:00,  6.69it/s, D_loss=0.319, G_loss=34.8]   \n",
      "Epoch [53/100]: 100%|██████████| 313/313 [00:49<00:00,  6.36it/s, D_loss=0.000796, G_loss=54.1]\n",
      "Epoch [54/100]: 100%|██████████| 313/313 [00:46<00:00,  6.77it/s, D_loss=0.00182, G_loss=47.9] \n",
      "Epoch [55/100]: 100%|██████████| 313/313 [00:45<00:00,  6.96it/s, D_loss=16.7, G_loss=71.2]    \n",
      "Epoch [56/100]: 100%|██████████| 313/313 [00:45<00:00,  6.84it/s, D_loss=0.000247, G_loss=61.5]\n",
      "Epoch [57/100]: 100%|██████████| 313/313 [00:48<00:00,  6.39it/s, D_loss=2.78e-5, G_loss=86.6] \n",
      "Epoch [58/100]: 100%|██████████| 313/313 [00:45<00:00,  6.85it/s, D_loss=5.96e-8, G_loss=57.2] \n",
      "Epoch [59/100]: 100%|██████████| 313/313 [00:45<00:00,  6.84it/s, D_loss=8.19e-6, G_loss=66]   \n",
      "Epoch [60/100]: 100%|██████████| 313/313 [00:48<00:00,  6.43it/s, D_loss=7.77e-6, G_loss=68.6] \n",
      "Epoch [61/100]: 100%|██████████| 313/313 [00:44<00:00,  7.00it/s, D_loss=3.97e-8, G_loss=66.9] \n",
      "Epoch [62/100]: 100%|██████████| 313/313 [00:46<00:00,  6.77it/s, D_loss=8.58e-5, G_loss=81.8] \n",
      "Epoch [63/100]: 100%|██████████| 313/313 [00:47<00:00,  6.55it/s, D_loss=3.58e-7, G_loss=83.2] \n",
      "Epoch [64/100]: 100%|██████████| 313/313 [00:45<00:00,  6.89it/s, D_loss=3.97e-8, G_loss=59.5] \n",
      "Epoch [65/100]: 100%|██████████| 313/313 [00:45<00:00,  6.86it/s, D_loss=3.97e-8, G_loss=80.7] \n",
      "Epoch [66/100]: 100%|██████████| 313/313 [00:49<00:00,  6.38it/s, D_loss=7.06e-5, G_loss=62.3] \n",
      "Epoch [67/100]: 100%|██████████| 313/313 [00:45<00:00,  6.85it/s, D_loss=7.32e-18, G_loss=50.8]\n",
      "Epoch [68/100]: 100%|██████████| 313/313 [00:45<00:00,  6.85it/s, D_loss=1.99e-5, G_loss=65.9] \n",
      "Epoch [69/100]: 100%|██████████| 313/313 [00:49<00:00,  6.36it/s, D_loss=7.23e-6, G_loss=70.8] \n",
      "Epoch [70/100]: 100%|██████████| 313/313 [00:45<00:00,  6.81it/s, D_loss=3.36e-24, G_loss=78.2]\n",
      "Epoch [71/100]: 100%|██████████| 313/313 [00:45<00:00,  6.82it/s, D_loss=3.97e-8, G_loss=59.1] \n",
      "Epoch [72/100]: 100%|██████████| 313/313 [00:44<00:00,  6.98it/s, D_loss=100, G_loss=0]        \n",
      "Epoch [73/100]: 100%|██████████| 313/313 [00:47<00:00,  6.64it/s, D_loss=100, G_loss=0]\n",
      "Epoch [74/100]: 100%|██████████| 313/313 [00:44<00:00,  6.99it/s, D_loss=100, G_loss=0]\n",
      "Epoch [75/100]: 100%|██████████| 313/313 [00:45<00:00,  6.93it/s, D_loss=100, G_loss=0]\n",
      "Epoch [76/100]: 100%|██████████| 313/313 [00:48<00:00,  6.52it/s, D_loss=100, G_loss=0]\n",
      "Epoch [77/100]: 100%|██████████| 313/313 [00:45<00:00,  6.92it/s, D_loss=100, G_loss=0]\n",
      "Epoch [78/100]: 100%|██████████| 313/313 [00:44<00:00,  7.10it/s, D_loss=100, G_loss=0]\n",
      "Epoch [79/100]: 100%|██████████| 313/313 [00:48<00:00,  6.42it/s, D_loss=100, G_loss=0]\n",
      "Epoch [80/100]: 100%|██████████| 313/313 [00:45<00:00,  6.94it/s, D_loss=100, G_loss=0]\n",
      "Epoch [81/100]: 100%|██████████| 313/313 [00:44<00:00,  6.96it/s, D_loss=100, G_loss=0]\n",
      "Epoch [82/100]: 100%|██████████| 313/313 [00:44<00:00,  7.10it/s, D_loss=100, G_loss=0]\n",
      "Epoch [83/100]: 100%|██████████| 313/313 [00:47<00:00,  6.54it/s, D_loss=100, G_loss=0]\n",
      "Epoch [84/100]: 100%|██████████| 313/313 [00:44<00:00,  7.11it/s, D_loss=100, G_loss=0]\n",
      "Epoch [85/100]: 100%|██████████| 313/313 [00:43<00:00,  7.16it/s, D_loss=100, G_loss=0]\n",
      "Epoch [86/100]: 100%|██████████| 313/313 [00:44<00:00,  7.03it/s, D_loss=100, G_loss=0]\n",
      "Epoch [87/100]: 100%|██████████| 313/313 [00:48<00:00,  6.50it/s, D_loss=100, G_loss=0]\n",
      "Epoch [88/100]: 100%|██████████| 313/313 [00:45<00:00,  6.95it/s, D_loss=100, G_loss=0]\n",
      "Epoch [89/100]: 100%|██████████| 313/313 [00:57<00:00,  5.45it/s, D_loss=100, G_loss=0]\n",
      "Epoch [90/100]: 100%|██████████| 313/313 [01:01<00:00,  5.07it/s, D_loss=100, G_loss=0]\n",
      "Epoch [91/100]: 100%|██████████| 313/313 [01:05<00:00,  4.80it/s, D_loss=100, G_loss=0]\n",
      "Epoch [92/100]: 100%|██████████| 313/313 [01:05<00:00,  4.77it/s, D_loss=100, G_loss=0]\n",
      "Epoch [93/100]: 100%|██████████| 313/313 [01:05<00:00,  4.77it/s, D_loss=100, G_loss=0]\n",
      "Epoch [94/100]: 100%|██████████| 313/313 [01:06<00:00,  4.69it/s, D_loss=100, G_loss=0]\n",
      "Epoch [95/100]: 100%|██████████| 313/313 [01:06<00:00,  4.73it/s, D_loss=100, G_loss=0]\n",
      "Epoch [96/100]: 100%|██████████| 313/313 [01:06<00:00,  4.73it/s, D_loss=100, G_loss=0]\n",
      "Epoch [97/100]: 100%|██████████| 313/313 [01:06<00:00,  4.74it/s, D_loss=100, G_loss=0]\n",
      "Epoch [98/100]: 100%|██████████| 313/313 [01:05<00:00,  4.79it/s, D_loss=100, G_loss=0]\n",
      "Epoch [99/100]: 100%|██████████| 313/313 [01:06<00:00,  4.74it/s, D_loss=100, G_loss=0]\n",
      "Epoch [100/100]: 100%|██████████| 313/313 [01:05<00:00,  4.78it/s, D_loss=100, G_loss=0]\n"
     ]
    }
   ],
   "source": [
    "CGAN = train_cgan(generator=G, discriminator=D, dataloader=Dataset,\n",
    "           num_classes=10, latent_dim=100, epochs=100, device='cuda')"
   ]
  },
  {
   "cell_type": "code",
   "execution_count": 6,
   "id": "21767f2e",
   "metadata": {},
   "outputs": [
    {
     "name": "stdout",
     "output_type": "stream",
     "text": [
      "Synthetic Data Shape: torch.Size([9990, 66000])\n",
      "Synthetic Labels Shape: torch.Size([9990])\n"
     ]
    }
   ],
   "source": [
    "synthetic_data, synthetic_labels = generate_all_classes(G, n_per_class=999)\n",
    "print(f\"Synthetic Data Shape: {synthetic_data.shape}\")\n",
    "print(f\"Synthetic Labels Shape: {synthetic_labels.shape}\")\n",
    "extractor = MFCCFeatureExtractor()"
   ]
  },
  {
   "cell_type": "code",
   "execution_count": 7,
   "id": "f4aec553",
   "metadata": {},
   "outputs": [
    {
     "name": "stdout",
     "output_type": "stream",
     "text": [
      "(9990, 61, 33)\n"
     ]
    }
   ],
   "source": [
    "feature_extraction = np.zeros((9990, 61, 33))\n",
    "for i, segment in enumerate(synthetic_data):\n",
    "    if isinstance(segment, torch.Tensor):\n",
    "        segment = segment.cpu().numpy()\n",
    "    combined_features = extractor._extract_segment_features(segment, sr=16000)\n",
    "    feature_extraction[i] = combined_features\n",
    "print(feature_extraction.shape)"
   ]
  },
  {
   "cell_type": "code",
   "execution_count": null,
   "id": "01541a1b",
   "metadata": {},
   "outputs": [],
   "source": [
    "device = torch.device('cuda')\n",
    "raw_features = np.load(\"features.npy\", allow_pickle=True)\n",
    "features = np.stack([f.astype(np.float32) for f in raw_features])\n",
    "labels = np.load(\"labels.npy\")\n",
    "real_features = torch.as_tensor(features, device=device)\n",
    "real_labels = torch.as_tensor(labels, device=device)"
   ]
  },
  {
   "cell_type": "code",
   "execution_count": null,
   "id": "dfaf5b78",
   "metadata": {},
   "outputs": [],
   "source": [
    "device = torch.device('cuda')\n",
    "feature_tensor = torch.as_tensor(feature_extraction, device=device)\n",
    "real_features = real_features.to(device)\n",
    "real_labels = real_labels.to(device)\n",
    "combined_features = torch.cat([real_features, feature_tensor], dim=0)\n",
    "combined_labels = torch.cat([real_labels, synthetic_labels], dim=0)"
   ]
  },
  {
   "cell_type": "code",
   "execution_count": 14,
   "id": "33c9b739",
   "metadata": {},
   "outputs": [],
   "source": [
    "features_np = combined_features.cpu().numpy()\n",
    "labels_np = combined_labels.cpu().numpy()\n",
    "np.save('wav_CGAN_features.npy', features_np)\n",
    "np.save('wav_CGAN_labels.npy', labels_np)"
   ]
  },
  {
   "cell_type": "code",
   "execution_count": null,
   "id": "1ad873c2",
   "metadata": {},
   "outputs": [],
   "source": []
  }
 ],
 "metadata": {
  "kernelspec": {
   "display_name": "gpu-cuda",
   "language": "python",
   "name": "python3"
  },
  "language_info": {
   "codemirror_mode": {
    "name": "ipython",
    "version": 3
   },
   "file_extension": ".py",
   "mimetype": "text/x-python",
   "name": "python",
   "nbconvert_exporter": "python",
   "pygments_lexer": "ipython3",
   "version": "3.11.11"
  }
 },
 "nbformat": 4,
 "nbformat_minor": 5
}
